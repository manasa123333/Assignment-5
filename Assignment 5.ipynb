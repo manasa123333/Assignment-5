{
 "cells": [
  {
   "cell_type": "markdown",
   "id": "6b76e8d4-2daf-4e3a-8884-4c8dd4b00a7b",
   "metadata": {},
   "source": [
    " Create a python program to sort the given list of tuples based on integer value using a  lambda function.  \n",
    "[('Sachin Tendulkar', 34357), ('Ricky Ponting', 27483), ('Jack Kallis', 25534), ('Virat Kohli', 24936)] \n"
   ]
  },
  {
   "cell_type": "code",
   "execution_count": 1,
   "id": "71bb9d4d-5049-44e5-a328-cce91d064050",
   "metadata": {},
   "outputs": [
    {
     "name": "stdout",
     "output_type": "stream",
     "text": [
      "[('Virat Kohli', 24936), ('Jack Kallis', 25534), ('Ricky Ponting', 27483), ('Sachin Tendulkar', 34357)]\n"
     ]
    }
   ],
   "source": [
    "t = [('Sachin Tendulkar', 34357), ('Ricky Ponting', 27483), ('Jack Kallis', 25534), ('Virat Kohli', 24936)]\n",
    "t.sort(key = lambda x:x[1])\n",
    "print(t)"
   ]
  },
  {
   "cell_type": "markdown",
   "id": "05d148af-7a0a-4c94-883f-3293184841a5",
   "metadata": {},
   "source": [
    "Q2. Write a Python Program to find the squares of all the numbers in the given list of integers using  lambda and map functions. \n",
    "[1, 2, 3, 4, 5, 6, 7, 8, 9, 10] \n"
   ]
  },
  {
   "cell_type": "code",
   "execution_count": 3,
   "id": "cf10f8fd-532f-4b3c-99ed-fcee7c237ea1",
   "metadata": {},
   "outputs": [],
   "source": [
    "square = lambda x : x**2\n",
    "l = [1,2,3,4,5,6,7,8,9,10]"
   ]
  },
  {
   "cell_type": "code",
   "execution_count": 4,
   "id": "748c97b8-ab8c-45f0-9424-0d33ad039702",
   "metadata": {},
   "outputs": [
    {
     "data": {
      "text/plain": [
       "[1, 4, 9, 16, 25, 36, 49, 64, 81, 100]"
      ]
     },
     "execution_count": 4,
     "metadata": {},
     "output_type": "execute_result"
    }
   ],
   "source": [
    "list(map(square,l))"
   ]
  },
  {
   "cell_type": "markdown",
   "id": "4b5f2d35-7123-45e1-8e7a-d39be00a2550",
   "metadata": {},
   "source": [
    "Q3. Write a python program to convert the given list of integers into a tuple of strings. Use map and  lambda functions \n",
    "Given String: [1, 2, 3, 4, 5, 6, 7, 8, 9, 10] \n",
    "Expected output: ('1', '2', '3', '4', '5', '6', '7', '8', '9', '10') \n"
   ]
  },
  {
   "cell_type": "code",
   "execution_count": 5,
   "id": "2c22463a-13b1-4775-b1f3-c5de910a679f",
   "metadata": {},
   "outputs": [],
   "source": [
    "l = [1,2,3,4,5,6,7,8,9,10]\n",
    "string = lambda y : str(y)"
   ]
  },
  {
   "cell_type": "code",
   "execution_count": 6,
   "id": "a0e6e168-801d-47fa-8e4c-5bec066e4cdc",
   "metadata": {},
   "outputs": [
    {
     "data": {
      "text/plain": [
       "('1', '2', '3', '4', '5', '6', '7', '8', '9', '10')"
      ]
     },
     "execution_count": 6,
     "metadata": {},
     "output_type": "execute_result"
    }
   ],
   "source": [
    "tuple(map(string,l))"
   ]
  },
  {
   "cell_type": "markdown",
   "id": "a8ba7896-1579-436b-af53-c7a50d8dfba4",
   "metadata": {},
   "source": [
    "Q4.  Write a python program using reduce function to compute the product of a list containing numbers  from 1 to 25."
   ]
  },
  {
   "cell_type": "code",
   "execution_count": 9,
   "id": "a9b35e69-1e8f-4a08-b492-d3d260b1f364",
   "metadata": {},
   "outputs": [],
   "source": [
    "from functools import reduce"
   ]
  },
  {
   "cell_type": "code",
   "execution_count": 10,
   "id": "deca7a2f-0774-4b3a-9c60-39652efa33fa",
   "metadata": {},
   "outputs": [],
   "source": [
    "l = []\n",
    "for i in range(1,26):\n",
    "    l.append(i)\n",
    "    "
   ]
  },
  {
   "cell_type": "code",
   "execution_count": 13,
   "id": "61ee1de9-bf1c-4c7d-9ee5-081cc85a5b1f",
   "metadata": {},
   "outputs": [
    {
     "data": {
      "text/plain": [
       "15511210043330985984000000"
      ]
     },
     "execution_count": 13,
     "metadata": {},
     "output_type": "execute_result"
    }
   ],
   "source": [
    "reduce(lambda i , j: i*j,l)"
   ]
  },
  {
   "cell_type": "markdown",
   "id": "62d95436-86ab-4c28-b08b-d41c116d0d59",
   "metadata": {},
   "source": [
    "Q5. Write a python program to filter the numbers in a given list that are divisible by 2 and 3 using the  filter function. \n",
    "[2, 3, 6, 9, 27, 60, 90, 120, 55, 46] \n"
   ]
  },
  {
   "cell_type": "code",
   "execution_count": 14,
   "id": "51098a2b-3bb0-4db2-8a59-f98b01b369eb",
   "metadata": {},
   "outputs": [],
   "source": [
    "l1 = [2, 3, 6, 9, 27, 60, 90, 120, 55, 46]"
   ]
  },
  {
   "cell_type": "code",
   "execution_count": 16,
   "id": "c34d0ad0-5544-439e-8d42-d69d5a2e2d13",
   "metadata": {},
   "outputs": [
    {
     "data": {
      "text/plain": [
       "[2, 3, 6, 9, 27, 60, 90, 120, 46]"
      ]
     },
     "execution_count": 16,
     "metadata": {},
     "output_type": "execute_result"
    }
   ],
   "source": [
    "list(filter(lambda i : i % 3 ==0 or i % 2 == 0,l1))"
   ]
  },
  {
   "cell_type": "markdown",
   "id": "71d87f6d-0cc0-4486-bfae-745208b918c6",
   "metadata": {},
   "source": [
    "Q6. Write a python program to find palindromes in the given list of strings using lambda and filter  function. \n",
    "['python', 'php', 'aba', 'radar', 'level'] \n"
   ]
  },
  {
   "cell_type": "code",
   "execution_count": 17,
   "id": "67356b10-c204-483b-99f8-752fbc98cc13",
   "metadata": {},
   "outputs": [],
   "source": [
    "s =  ['python', 'php', 'aba', 'radar', 'level']"
   ]
  },
  {
   "cell_type": "code",
   "execution_count": null,
   "id": "caed3f1e-0d58-45b3-b4d1-52941908a64c",
   "metadata": {},
   "outputs": [],
   "source": [
    "list(filter(lambda i : (i == \"\"reversed"
   ]
  }
 ],
 "metadata": {
  "kernelspec": {
   "display_name": "Python 3 (ipykernel)",
   "language": "python",
   "name": "python3"
  },
  "language_info": {
   "codemirror_mode": {
    "name": "ipython",
    "version": 3
   },
   "file_extension": ".py",
   "mimetype": "text/x-python",
   "name": "python",
   "nbconvert_exporter": "python",
   "pygments_lexer": "ipython3",
   "version": "3.10.8"
  }
 },
 "nbformat": 4,
 "nbformat_minor": 5
}
